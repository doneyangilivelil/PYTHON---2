{
 "cells": [
  {
   "cell_type": "code",
   "execution_count": 1,
   "metadata": {},
   "outputs": [],
   "source": [
    "#-------------------------------------------------------------------\n",
    "#  Assignment -2.1 \n",
    "#\n",
    "# Write a program which accepts a sequence of comma-separated numbers from console\n",
    "# and generate a list.\n",
    "#\n",
    "#-------------------------------------------------------------------"
   ]
  },
  {
   "cell_type": "code",
   "execution_count": 10,
   "metadata": {},
   "outputs": [
    {
     "name": "stdout",
     "output_type": "stream",
     "text": [
      "Please enter comma seperated numbers : 1,2,3,4,5\n",
      "The list that is generated based on input is :  ['1', '2', '3', '4', '5']\n"
     ]
    }
   ],
   "source": [
    "comma_number=input(\"Please enter comma seperated numbers : \")\n",
    "list1=comma_number.split(',')\n",
    "type(list1)\n",
    "print('The list that is generated based on input is : ',list1)"
   ]
  }
 ],
 "metadata": {
  "kernelspec": {
   "display_name": "Python 3",
   "language": "python",
   "name": "python3"
  },
  "language_info": {
   "codemirror_mode": {
    "name": "ipython",
    "version": 3
   },
   "file_extension": ".py",
   "mimetype": "text/x-python",
   "name": "python",
   "nbconvert_exporter": "python",
   "pygments_lexer": "ipython3",
   "version": "3.6.4"
  }
 },
 "nbformat": 4,
 "nbformat_minor": 2
}
